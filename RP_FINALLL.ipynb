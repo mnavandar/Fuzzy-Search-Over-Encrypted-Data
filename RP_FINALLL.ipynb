{
 "cells": [
  {
   "cell_type": "code",
   "execution_count": 140,
   "metadata": {},
   "outputs": [],
   "source": [
    "import pandas as pd"
   ]
  },
  {
   "cell_type": "code",
   "execution_count": 152,
   "metadata": {},
   "outputs": [
    {
     "name": "stdout",
     "output_type": "stream",
     "text": [
      "     Unnamed: 0  FID                                            Keyword\n",
      "0             0    1  Host Software Host IMP Software Messages Host ...\n",
      "1             1    2  link primary link Working Group Bill HOST LINK...\n",
      "2             2    3  Network Working Group Working Group Network Wo...\n",
      "3             3    4  Working Group Elmer Elmer B. Shapiro Network W...\n",
      "4             4    5  DEL DEL program user program display user site...\n",
      "..          ...  ...                                                ...\n",
      "988         988  995  End System Network Intermediate System network...\n",
      "989         989  996  Working Group Report Network Working Group Wor...\n",
      "990         990  997  Internet Numbers RFC Network Numbers NETWORK n...\n",
      "991         991  998  NETBLT receiving NETBLT DATA packet data Data ...\n",
      "992         992  999  Protocol RFC ISO Internet Protocol Standard In...\n",
      "\n",
      "[993 rows x 3 columns]\n"
     ]
    }
   ],
   "source": [
    "d=pd.read_csv('FKI_1000.csv')\n",
    "print(d)"
   ]
  },
  {
   "cell_type": "code",
   "execution_count": 153,
   "metadata": {},
   "outputs": [],
   "source": [
    "d = d.drop('Unnamed: 0',axis=1)"
   ]
  },
  {
   "cell_type": "code",
   "execution_count": 154,
   "metadata": {},
   "outputs": [
    {
     "name": "stdout",
     "output_type": "stream",
     "text": [
      "     FID                                            Keyword\n",
      "0      1  Host Software Host IMP Software Messages Host ...\n",
      "1      2  link primary link Working Group Bill HOST LINK...\n",
      "2      3  Network Working Group Working Group Network Wo...\n",
      "3      4  Working Group Elmer Elmer B. Shapiro Network W...\n",
      "4      5  DEL DEL program user program display user site...\n",
      "..   ...                                                ...\n",
      "988  995  End System Network Intermediate System network...\n",
      "989  996  Working Group Report Network Working Group Wor...\n",
      "990  997  Internet Numbers RFC Network Numbers NETWORK n...\n",
      "991  998  NETBLT receiving NETBLT DATA packet data Data ...\n",
      "992  999  Protocol RFC ISO Internet Protocol Standard In...\n",
      "\n",
      "[993 rows x 2 columns]\n"
     ]
    }
   ],
   "source": [
    "print(d)"
   ]
  },
  {
   "cell_type": "code",
   "execution_count": 155,
   "metadata": {},
   "outputs": [],
   "source": [
    "permutations = 128\n",
    "num_recommendations = 5"
   ]
  },
  {
   "cell_type": "code",
   "execution_count": 156,
   "metadata": {},
   "outputs": [],
   "source": [
    "import numpy as np\n",
    "import pandas as pd\n",
    "import re\n",
    "import time\n",
    "from datasketch import MinHash, MinHashLSHForest,MinHashLSH"
   ]
  },
  {
   "cell_type": "code",
   "execution_count": 157,
   "metadata": {},
   "outputs": [],
   "source": [
    "from datasketch import MinHash, MinHashLSH\n",
    "from nltk import ngrams\n",
    "\n",
    "start_time = time.time()\n",
    "def get_f(data,perm):\n",
    "    #lsh = MinHashLSH(threshold=0.5, num_perm=128)\n",
    "    minhashes = {}\n",
    "    j=0;\n",
    "    fo=MinHashLSHForest(num_perm=128)\n",
    "    for c, i in enumerate(data['Keyword']):\n",
    "        k=0;\n",
    "        p = i.split(\" \")\n",
    "        j=j+1\n",
    "        for u in p:\n",
    "            k=k+1\n",
    "            minhash = MinHash(num_perm=128)\n",
    "            for d1 in ngrams(u, 3):\n",
    "                #print(d)\n",
    "                minhash.update(\"\".join(d1).encode('utf-8'))\n",
    "            #minhash.update(u.encode('utf-8'))\n",
    "            #lsh.insert(str(j)+\"a\"+str(k), minhash)\n",
    "            fo.add(str(j)+\"a\"+str(k),minhash)\n",
    "            fo.index()\n",
    "            #print(minhash)\n",
    "    print('It took %s seconds to build forest.' %(time.time()-start_time))\n",
    "    return fo"
   ]
  },
  {
   "cell_type": "code",
   "execution_count": 158,
   "metadata": {},
   "outputs": [
    {
     "name": "stdout",
     "output_type": "stream",
     "text": [
      "It took 1970.3590831756592 seconds to build forest.\n"
     ]
    }
   ],
   "source": [
    "g=get_f(d,permutations)"
   ]
  },
  {
   "cell_type": "code",
   "execution_count": 175,
   "metadata": {
    "scrolled": true
   },
   "outputs": [
    {
     "name": "stdout",
     "output_type": "stream",
     "text": [
      "22\n",
      "It took 0.005196809768676758 seconds to build forest.\n"
     ]
    }
   ],
   "source": [
    "j=\"Shapiro\"\n",
    "start_time = time.time()\n",
    "m = MinHash(num_perm=128)\n",
    "for d in ngrams(j, 3):\n",
    "    #print(d)\n",
    "    m.update(\"\".join(d).encode('utf-8'))\n",
    "#m.insert(j.encode('utf-8'))\n",
    "result = g.query(m,2000)\n",
    "y = set()\n",
    "for i in result:\n",
    "    u=''\n",
    "    i.split('a')\n",
    "    u=i[0:i.find('a')]\n",
    "    y.add(u)\n",
    "#for o in y:\n",
    "#    print(int(o)-1)\n",
    "print(len(y))\n",
    "print('It took %s seconds to build forest.' %(time.time()-start_time))"
   ]
  },
  {
   "cell_type": "code",
   "execution_count": 151,
   "metadata": {},
   "outputs": [
    {
     "ename": "TypeError",
     "evalue": "tuple indices must be integers or slices, not str",
     "output_type": "error",
     "traceback": [
      "\u001b[1;31m---------------------------------------------------------------------------\u001b[0m",
      "\u001b[1;31mTypeError\u001b[0m                                 Traceback (most recent call last)",
      "\u001b[1;32m<ipython-input-151-06ccbf17b070>\u001b[0m in \u001b[0;36m<module>\u001b[1;34m\u001b[0m\n\u001b[0;32m      1\u001b[0m \u001b[0mj\u001b[0m\u001b[1;33m=\u001b[0m\u001b[1;34m'Steve'\u001b[0m\u001b[1;33m\u001b[0m\u001b[1;33m\u001b[0m\u001b[0m\n\u001b[0;32m      2\u001b[0m \u001b[0my\u001b[0m\u001b[1;33m=\u001b[0m\u001b[1;33m[\u001b[0m\u001b[1;33m]\u001b[0m\u001b[1;33m\u001b[0m\u001b[1;33m\u001b[0m\u001b[0m\n\u001b[1;32m----> 3\u001b[1;33m \u001b[1;32mfor\u001b[0m \u001b[0mc\u001b[0m\u001b[1;33m,\u001b[0m\u001b[0mi\u001b[0m \u001b[1;32min\u001b[0m \u001b[0menumerate\u001b[0m \u001b[1;33m(\u001b[0m\u001b[0md\u001b[0m\u001b[1;33m[\u001b[0m\u001b[1;34m'Keyword'\u001b[0m\u001b[1;33m]\u001b[0m\u001b[1;33m)\u001b[0m\u001b[1;33m:\u001b[0m\u001b[1;33m\u001b[0m\u001b[1;33m\u001b[0m\u001b[0m\n\u001b[0m\u001b[0;32m      4\u001b[0m     \u001b[0mp\u001b[0m\u001b[1;33m=\u001b[0m\u001b[0mi\u001b[0m\u001b[1;33m.\u001b[0m\u001b[0msplit\u001b[0m\u001b[1;33m(\u001b[0m\u001b[1;33m)\u001b[0m\u001b[1;33m\u001b[0m\u001b[1;33m\u001b[0m\u001b[0m\n\u001b[0;32m      5\u001b[0m \u001b[1;33m\u001b[0m\u001b[0m\n",
      "\u001b[1;31mTypeError\u001b[0m: tuple indices must be integers or slices, not str"
     ]
    }
   ],
   "source": [
    "j='Steve'\n",
    "y=[]\n",
    "for c,i in enumerate (d['Keyword']):\n",
    "    p=i.split()\n",
    "    \n",
    "    if j in p:\n",
    "        y.append(c)\n",
    "        \n",
    "print(y)"
   ]
  },
  {
   "cell_type": "code",
   "execution_count": null,
   "metadata": {},
   "outputs": [],
   "source": []
  }
 ],
 "metadata": {
  "kernelspec": {
   "display_name": "Python 3",
   "language": "python",
   "name": "python3"
  },
  "language_info": {
   "codemirror_mode": {
    "name": "ipython",
    "version": 3
   },
   "file_extension": ".py",
   "mimetype": "text/x-python",
   "name": "python",
   "nbconvert_exporter": "python",
   "pygments_lexer": "ipython3",
   "version": "3.8.5"
  }
 },
 "nbformat": 4,
 "nbformat_minor": 4
}
